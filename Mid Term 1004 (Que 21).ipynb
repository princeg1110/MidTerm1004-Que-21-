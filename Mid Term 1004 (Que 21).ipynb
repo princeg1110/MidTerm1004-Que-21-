{
  "metadata": {
    "language_info": {
      "codemirror_mode": {
        "name": "python",
        "version": 3
      },
      "file_extension": ".py",
      "mimetype": "text/x-python",
      "name": "python",
      "nbconvert_exporter": "python",
      "pygments_lexer": "ipython3",
      "version": "3.8"
    },
    "kernelspec": {
      "name": "python",
      "display_name": "Python (Pyodide)",
      "language": "python"
    }
  },
  "nbformat_minor": 4,
  "nbformat": 4,
  "cells": [
    {
      "cell_type": "code",
      "source": "class Point:\n    def __init__(self, a=0, b=0):\n        self.a = a\n        self.b = b\n\nclass Segment:\n    def __init__(self, point1, point2):\n        self.point1 = point1\n        self.point2 = point2\n\n    def length(self):\n        return ((self.point1.a - self.point2.a)**2 + (self.point1.b - self.point2.b)**2)**0.5\n\n    def slope(self):\n        if self.point1.a == self.point2.a:\n            return None\n        return (self.point1.b - self.point2.b) / (self.point1.a - self.point2.a)\n\n# testing the code\np1 = Point(5, 12)\np2 = Point()\nS = Segment(p1, p2)\nprint(S.length())  # expected output: 13.0\nprint(S.slope())  # expected output: 0.75",
      "metadata": {
        "trusted": true
      },
      "execution_count": 4,
      "outputs": [
        {
          "name": "stdout",
          "text": "13.0\n2.4\n",
          "output_type": "stream"
        }
      ]
    },
    {
      "cell_type": "code",
      "source": "",
      "metadata": {},
      "execution_count": null,
      "outputs": []
    }
  ]
}